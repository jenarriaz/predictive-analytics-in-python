{
 "cells": [
  {
   "cell_type": "code",
   "execution_count": 2,
   "metadata": {},
   "outputs": [
    {
     "name": "stdout",
     "output_type": "stream",
     "text": [
      "Collecting sklearn\n",
      "  Downloading sklearn-0.0.tar.gz (1.1 kB)\n",
      "Collecting scikit-learn\n",
      "  Downloading scikit_learn-0.23.2-cp37-cp37m-macosx_10_9_x86_64.whl (7.2 MB)\n",
      "\u001b[K     |████████████████████████████████| 7.2 MB 4.8 MB/s eta 0:00:01\n",
      "\u001b[?25hCollecting threadpoolctl>=2.0.0\n",
      "  Downloading threadpoolctl-2.1.0-py3-none-any.whl (12 kB)\n",
      "Requirement already satisfied: scipy>=0.19.1 in ./opt/anaconda3/lib/python3.7/site-packages (from scikit-learn->sklearn) (1.5.2)\n",
      "Collecting joblib>=0.11\n",
      "  Downloading joblib-0.17.0-py3-none-any.whl (301 kB)\n",
      "\u001b[K     |████████████████████████████████| 301 kB 6.6 MB/s eta 0:00:01\n",
      "\u001b[?25hRequirement already satisfied: numpy>=1.13.3 in ./opt/anaconda3/lib/python3.7/site-packages (from scikit-learn->sklearn) (1.19.2)\n",
      "Building wheels for collected packages: sklearn\n",
      "  Building wheel for sklearn (setup.py) ... \u001b[?25ldone\n",
      "\u001b[?25h  Created wheel for sklearn: filename=sklearn-0.0-py2.py3-none-any.whl size=1315 sha256=a83445cb1db07aa1147a294b01c34a14e1a69c91c0b2d68e8f6c7cfa1d7b8268\n",
      "  Stored in directory: /Users/jenarriaza/Library/Caches/pip/wheels/46/ef/c3/157e41f5ee1372d1be90b09f74f82b10e391eaacca8f22d33e\n",
      "Successfully built sklearn\n",
      "Installing collected packages: threadpoolctl, joblib, scikit-learn, sklearn\n",
      "Successfully installed joblib-0.17.0 scikit-learn-0.23.2 sklearn-0.0 threadpoolctl-2.1.0\n",
      "Note: you may need to restart the kernel to use updated packages.\n"
     ]
    }
   ],
   "source": [
    "pip install sklearn"
   ]
  },
  {
   "cell_type": "code",
   "execution_count": 3,
   "metadata": {},
   "outputs": [
    {
     "name": "stdout",
     "output_type": "stream",
     "text": [
      "Collecting seaborn\n",
      "  Downloading seaborn-0.11.0-py3-none-any.whl (283 kB)\n",
      "\u001b[K     |████████████████████████████████| 283 kB 2.2 MB/s eta 0:00:01\n",
      "\u001b[?25hRequirement already satisfied: numpy>=1.15 in ./opt/anaconda3/lib/python3.7/site-packages (from seaborn) (1.19.2)\n",
      "Requirement already satisfied: pandas>=0.23 in ./opt/anaconda3/lib/python3.7/site-packages (from seaborn) (1.1.3)\n",
      "Requirement already satisfied: matplotlib>=2.2 in ./opt/anaconda3/lib/python3.7/site-packages (from seaborn) (3.3.2)\n",
      "Requirement already satisfied: scipy>=1.0 in ./opt/anaconda3/lib/python3.7/site-packages (from seaborn) (1.5.2)\n",
      "Requirement already satisfied: pytz>=2017.2 in ./opt/anaconda3/lib/python3.7/site-packages (from pandas>=0.23->seaborn) (2020.1)\n",
      "Requirement already satisfied: python-dateutil>=2.7.3 in ./opt/anaconda3/lib/python3.7/site-packages (from pandas>=0.23->seaborn) (2.8.1)\n",
      "Requirement already satisfied: certifi>=2020.06.20 in ./opt/anaconda3/lib/python3.7/site-packages (from matplotlib>=2.2->seaborn) (2020.6.20)\n",
      "Requirement already satisfied: pyparsing!=2.0.4,!=2.1.2,!=2.1.6,>=2.0.3 in ./opt/anaconda3/lib/python3.7/site-packages (from matplotlib>=2.2->seaborn) (2.4.7)\n",
      "Requirement already satisfied: pillow>=6.2.0 in ./opt/anaconda3/lib/python3.7/site-packages (from matplotlib>=2.2->seaborn) (7.2.0)\n",
      "Requirement already satisfied: kiwisolver>=1.0.1 in ./opt/anaconda3/lib/python3.7/site-packages (from matplotlib>=2.2->seaborn) (1.2.0)\n",
      "Requirement already satisfied: cycler>=0.10 in ./opt/anaconda3/lib/python3.7/site-packages (from matplotlib>=2.2->seaborn) (0.10.0)\n",
      "Requirement already satisfied: six>=1.5 in ./opt/anaconda3/lib/python3.7/site-packages (from python-dateutil>=2.7.3->pandas>=0.23->seaborn) (1.15.0)\n",
      "Installing collected packages: seaborn\n",
      "Successfully installed seaborn-0.11.0\n",
      "Note: you may need to restart the kernel to use updated packages.\n"
     ]
    }
   ],
   "source": [
    "pip install seaborn"
   ]
  },
  {
   "cell_type": "code",
   "execution_count": 2,
   "metadata": {},
   "outputs": [],
   "source": [
    "%matplotlib inline \n",
    "import numpy as np\n",
    "import pandas as pd\n",
    "import scipy.stats as stats\n",
    "import matplotlib.pyplot as plt\n",
    "import sklearn\n",
    "import seaborn as sns\n",
    "import warnings\n",
    "warnings.simplefilter(action='ignore', category=FutureWarning)\n",
    "# special matplotlib argument for improved plots\n",
    "from matplotlib import rcParams\n",
    "rcParams['figure.dpi']= 100\n",
    "sns.set_style(\"whitegrid\")\n",
    "sns.set_context(\"poster\")"
   ]
  },
  {
   "cell_type": "code",
   "execution_count": 4,
   "metadata": {},
   "outputs": [
    {
     "name": "stdout",
     "output_type": "stream",
     "text": [
      "Collecting xlrd\n",
      "  Downloading xlrd-1.2.0-py2.py3-none-any.whl (103 kB)\n",
      "\u001b[K     |████████████████████████████████| 103 kB 2.7 MB/s eta 0:00:01\n",
      "\u001b[?25hInstalling collected packages: xlrd\n",
      "Successfully installed xlrd-1.2.0\n",
      "Note: you may need to restart the kernel to use updated packages.\n"
     ]
    }
   ],
   "source": [
    "pip install xlrd"
   ]
  },
  {
   "cell_type": "code",
   "execution_count": 2,
   "metadata": {},
   "outputs": [],
   "source": [
    "%matplotlib inline \n",
    "import numpy as np\n",
    "import pandas as pd\n",
    "import scipy.stats as stats\n",
    "import matplotlib.pyplot as plt\n",
    "import sklearn\n",
    "import seaborn as sns\n",
    "import warnings\n",
    "warnings.simplefilter(action='ignore', category=FutureWarning)\n",
    "# special matplotlib argument for improved plots\n",
    "from matplotlib import rcParams\n",
    "rcParams['figure.dpi']= 100\n",
    "sns.set_style(\"whitegrid\")\n",
    "sns.set_context(\"poster\")"
   ]
  },
  {
   "cell_type": "code",
   "execution_count": 9,
   "metadata": {},
   "outputs": [],
   "source": [
    "import os\n",
    "cwd = os.getcwd()"
   ]
  },
  {
   "cell_type": "code",
   "execution_count": 10,
   "metadata": {},
   "outputs": [
    {
     "data": {
      "text/plain": [
       "'/Users/jenarriaza'"
      ]
     },
     "execution_count": 10,
     "metadata": {},
     "output_type": "execute_result"
    }
   ],
   "source": [
    "os. getcwd()"
   ]
  },
  {
   "cell_type": "code",
   "execution_count": 14,
   "metadata": {},
   "outputs": [],
   "source": [
    "df = pd.read_csv(\"NYC.gov_Web_Analytics.csv\")"
   ]
  },
  {
   "cell_type": "code",
   "execution_count": 15,
   "metadata": {},
   "outputs": [
    {
     "data": {
      "text/plain": [
       "(32016, 6)"
      ]
     },
     "execution_count": 15,
     "metadata": {},
     "output_type": "execute_result"
    }
   ],
   "source": [
    "df.shape"
   ]
  },
  {
   "cell_type": "code",
   "execution_count": 16,
   "metadata": {},
   "outputs": [
    {
     "data": {
      "text/plain": [
       "<bound method NDFrame.describe of       Time Period                                               Page  \\\n",
       "0          Jul-15                                                NaN   \n",
       "1          Jul-15                               http://www1.nyc.gov/   \n",
       "2          Jul-15  http://www1.nyc.gov/site/finance/pay-now/onlin...   \n",
       "3          Jul-15  http://www1.nyc.gov/assets/finance/jump/pay_pa...   \n",
       "4          Jul-15   http://www.nyc.gov/html/dob/html/home/home.shtml   \n",
       "...           ...                                                ...   \n",
       "32011      Oct-16  http://www1.nyc.gov/events/free-electronics-re...   \n",
       "32012      Oct-16  http://www1.nyc.gov/office-of-the-mayor/news/1...   \n",
       "32013      Oct-16  http://www1.nyc.gov/site/dsny/about/news/pr201...   \n",
       "32014      Oct-16  http://www1.nyc.gov/assets/hhsconnect/download...   \n",
       "32015      Oct-16                     http://www1.nyc.gov/EPLEAD.HTM   \n",
       "\n",
       "                                                   Title    Visits     Views  \\\n",
       "0                                                    NaN       NaN  23123911   \n",
       "1                  Welcome to NYC.gov | City of New York  551941.0    715124   \n",
       "2                                         Pay Online Now  470528.0    903463   \n",
       "3               Pay Parking and Camera Violations Online  361846.0    548096   \n",
       "4                                Department of Buildings  321598.0    589963   \n",
       "...                                                  ...       ...       ...   \n",
       "32011                                                NaN       5.0         5   \n",
       "32012  NYC Children's Cabinet Continues \"Talk To Your...       5.0         5   \n",
       "32013                                                NaN       5.0         5   \n",
       "32014                                                NYC       5.0         7   \n",
       "32015                                                NYC       5.0         5   \n",
       "\n",
       "       Average Time Viewed (seconds)  \n",
       "0                              96.50  \n",
       "1                              68.02  \n",
       "2                              41.90  \n",
       "3                             313.00  \n",
       "4                             193.77  \n",
       "...                              ...  \n",
       "32011                            NaN  \n",
       "32012                          15.00  \n",
       "32013                           4.00  \n",
       "32014                          66.25  \n",
       "32015                          21.00  \n",
       "\n",
       "[32016 rows x 6 columns]>"
      ]
     },
     "execution_count": 16,
     "metadata": {},
     "output_type": "execute_result"
    }
   ],
   "source": [
    "df.describe"
   ]
  },
  {
   "cell_type": "code",
   "execution_count": 17,
   "metadata": {},
   "outputs": [
    {
     "name": "stdout",
     "output_type": "stream",
     "text": [
      "Time Period                         0\n",
      "Page                               98\n",
      "Title                            1437\n",
      "Visits                             16\n",
      "Views                               0\n",
      "Average Time Viewed (seconds)     963\n",
      "dtype: int64\n"
     ]
    }
   ],
   "source": [
    "print(df.isnull().sum())"
   ]
  },
  {
   "cell_type": "code",
   "execution_count": 18,
   "metadata": {},
   "outputs": [],
   "source": [
    "missing_values=df.isnull().sum()"
   ]
  },
  {
   "cell_type": "code",
   "execution_count": 19,
   "metadata": {},
   "outputs": [
    {
     "name": "stdout",
     "output_type": "stream",
     "text": [
      "Time Period                         0\n",
      "Page                               98\n",
      "Title                            1437\n",
      "Visits                             16\n",
      "Views                               0\n",
      "Average Time Viewed (seconds)     963\n",
      "dtype: int64\n"
     ]
    }
   ],
   "source": [
    "print(missing_values)"
   ]
  },
  {
   "cell_type": "code",
   "execution_count": 20,
   "metadata": {},
   "outputs": [
    {
     "data": {
      "text/plain": [
       "<bound method NDFrame.head of       Time Period                                               Page  \\\n",
       "0          Jul-15                                                NaN   \n",
       "1          Jul-15                               http://www1.nyc.gov/   \n",
       "2          Jul-15  http://www1.nyc.gov/site/finance/pay-now/onlin...   \n",
       "3          Jul-15  http://www1.nyc.gov/assets/finance/jump/pay_pa...   \n",
       "4          Jul-15   http://www.nyc.gov/html/dob/html/home/home.shtml   \n",
       "...           ...                                                ...   \n",
       "32011      Oct-16  http://www1.nyc.gov/events/free-electronics-re...   \n",
       "32012      Oct-16  http://www1.nyc.gov/office-of-the-mayor/news/1...   \n",
       "32013      Oct-16  http://www1.nyc.gov/site/dsny/about/news/pr201...   \n",
       "32014      Oct-16  http://www1.nyc.gov/assets/hhsconnect/download...   \n",
       "32015      Oct-16                     http://www1.nyc.gov/EPLEAD.HTM   \n",
       "\n",
       "                                                   Title    Visits     Views  \\\n",
       "0                                                    NaN       NaN  23123911   \n",
       "1                  Welcome to NYC.gov | City of New York  551941.0    715124   \n",
       "2                                         Pay Online Now  470528.0    903463   \n",
       "3               Pay Parking and Camera Violations Online  361846.0    548096   \n",
       "4                                Department of Buildings  321598.0    589963   \n",
       "...                                                  ...       ...       ...   \n",
       "32011                                                NaN       5.0         5   \n",
       "32012  NYC Children's Cabinet Continues \"Talk To Your...       5.0         5   \n",
       "32013                                                NaN       5.0         5   \n",
       "32014                                                NYC       5.0         7   \n",
       "32015                                                NYC       5.0         5   \n",
       "\n",
       "       Average Time Viewed (seconds)  \n",
       "0                              96.50  \n",
       "1                              68.02  \n",
       "2                              41.90  \n",
       "3                             313.00  \n",
       "4                             193.77  \n",
       "...                              ...  \n",
       "32011                            NaN  \n",
       "32012                          15.00  \n",
       "32013                           4.00  \n",
       "32014                          66.25  \n",
       "32015                          21.00  \n",
       "\n",
       "[32016 rows x 6 columns]>"
      ]
     },
     "execution_count": 20,
     "metadata": {},
     "output_type": "execute_result"
    }
   ],
   "source": [
    "df.head"
   ]
  },
  {
   "cell_type": "code",
   "execution_count": 21,
   "metadata": {},
   "outputs": [
    {
     "data": {
      "text/plain": [
       "<bound method NDFrame.tail of       Time Period                                               Page  \\\n",
       "0          Jul-15                                                NaN   \n",
       "1          Jul-15                               http://www1.nyc.gov/   \n",
       "2          Jul-15  http://www1.nyc.gov/site/finance/pay-now/onlin...   \n",
       "3          Jul-15  http://www1.nyc.gov/assets/finance/jump/pay_pa...   \n",
       "4          Jul-15   http://www.nyc.gov/html/dob/html/home/home.shtml   \n",
       "...           ...                                                ...   \n",
       "32011      Oct-16  http://www1.nyc.gov/events/free-electronics-re...   \n",
       "32012      Oct-16  http://www1.nyc.gov/office-of-the-mayor/news/1...   \n",
       "32013      Oct-16  http://www1.nyc.gov/site/dsny/about/news/pr201...   \n",
       "32014      Oct-16  http://www1.nyc.gov/assets/hhsconnect/download...   \n",
       "32015      Oct-16                     http://www1.nyc.gov/EPLEAD.HTM   \n",
       "\n",
       "                                                   Title    Visits     Views  \\\n",
       "0                                                    NaN       NaN  23123911   \n",
       "1                  Welcome to NYC.gov | City of New York  551941.0    715124   \n",
       "2                                         Pay Online Now  470528.0    903463   \n",
       "3               Pay Parking and Camera Violations Online  361846.0    548096   \n",
       "4                                Department of Buildings  321598.0    589963   \n",
       "...                                                  ...       ...       ...   \n",
       "32011                                                NaN       5.0         5   \n",
       "32012  NYC Children's Cabinet Continues \"Talk To Your...       5.0         5   \n",
       "32013                                                NaN       5.0         5   \n",
       "32014                                                NYC       5.0         7   \n",
       "32015                                                NYC       5.0         5   \n",
       "\n",
       "       Average Time Viewed (seconds)  \n",
       "0                              96.50  \n",
       "1                              68.02  \n",
       "2                              41.90  \n",
       "3                             313.00  \n",
       "4                             193.77  \n",
       "...                              ...  \n",
       "32011                            NaN  \n",
       "32012                          15.00  \n",
       "32013                           4.00  \n",
       "32014                          66.25  \n",
       "32015                          21.00  \n",
       "\n",
       "[32016 rows x 6 columns]>"
      ]
     },
     "execution_count": 21,
     "metadata": {},
     "output_type": "execute_result"
    }
   ],
   "source": [
    "df.tail"
   ]
  },
  {
   "cell_type": "code",
   "execution_count": 23,
   "metadata": {},
   "outputs": [],
   "source": [
    "df.drop('Page', axis=1, inplace=True)"
   ]
  },
  {
   "cell_type": "code",
   "execution_count": 24,
   "metadata": {},
   "outputs": [
    {
     "data": {
      "text/html": [
       "<div>\n",
       "<style scoped>\n",
       "    .dataframe tbody tr th:only-of-type {\n",
       "        vertical-align: middle;\n",
       "    }\n",
       "\n",
       "    .dataframe tbody tr th {\n",
       "        vertical-align: top;\n",
       "    }\n",
       "\n",
       "    .dataframe thead th {\n",
       "        text-align: right;\n",
       "    }\n",
       "</style>\n",
       "<table border=\"1\" class=\"dataframe\">\n",
       "  <thead>\n",
       "    <tr style=\"text-align: right;\">\n",
       "      <th></th>\n",
       "      <th>Time Period</th>\n",
       "      <th>Title</th>\n",
       "      <th>Visits</th>\n",
       "      <th>Views</th>\n",
       "      <th>Average Time Viewed (seconds)</th>\n",
       "    </tr>\n",
       "  </thead>\n",
       "  <tbody>\n",
       "    <tr>\n",
       "      <th>0</th>\n",
       "      <td>Jul-15</td>\n",
       "      <td>NaN</td>\n",
       "      <td>NaN</td>\n",
       "      <td>23123911</td>\n",
       "      <td>96.50</td>\n",
       "    </tr>\n",
       "    <tr>\n",
       "      <th>1</th>\n",
       "      <td>Jul-15</td>\n",
       "      <td>Welcome to NYC.gov | City of New York</td>\n",
       "      <td>551941.0</td>\n",
       "      <td>715124</td>\n",
       "      <td>68.02</td>\n",
       "    </tr>\n",
       "    <tr>\n",
       "      <th>2</th>\n",
       "      <td>Jul-15</td>\n",
       "      <td>Pay Online Now</td>\n",
       "      <td>470528.0</td>\n",
       "      <td>903463</td>\n",
       "      <td>41.90</td>\n",
       "    </tr>\n",
       "    <tr>\n",
       "      <th>3</th>\n",
       "      <td>Jul-15</td>\n",
       "      <td>Pay Parking and Camera Violations Online</td>\n",
       "      <td>361846.0</td>\n",
       "      <td>548096</td>\n",
       "      <td>313.00</td>\n",
       "    </tr>\n",
       "    <tr>\n",
       "      <th>4</th>\n",
       "      <td>Jul-15</td>\n",
       "      <td>Department of Buildings</td>\n",
       "      <td>321598.0</td>\n",
       "      <td>589963</td>\n",
       "      <td>193.77</td>\n",
       "    </tr>\n",
       "  </tbody>\n",
       "</table>\n",
       "</div>"
      ],
      "text/plain": [
       "  Time Period                                     Title    Visits     Views  \\\n",
       "0      Jul-15                                       NaN       NaN  23123911   \n",
       "1      Jul-15     Welcome to NYC.gov | City of New York  551941.0    715124   \n",
       "2      Jul-15                            Pay Online Now  470528.0    903463   \n",
       "3      Jul-15  Pay Parking and Camera Violations Online  361846.0    548096   \n",
       "4      Jul-15                   Department of Buildings  321598.0    589963   \n",
       "\n",
       "   Average Time Viewed (seconds)  \n",
       "0                          96.50  \n",
       "1                          68.02  \n",
       "2                          41.90  \n",
       "3                         313.00  \n",
       "4                         193.77  "
      ]
     },
     "execution_count": 24,
     "metadata": {},
     "output_type": "execute_result"
    }
   ],
   "source": [
    "pd.set_option('display.max_columns', None)\n",
    "df.head()"
   ]
  },
  {
   "cell_type": "code",
   "execution_count": 25,
   "metadata": {},
   "outputs": [
    {
     "data": {
      "text/html": [
       "<div>\n",
       "<style scoped>\n",
       "    .dataframe tbody tr th:only-of-type {\n",
       "        vertical-align: middle;\n",
       "    }\n",
       "\n",
       "    .dataframe tbody tr th {\n",
       "        vertical-align: top;\n",
       "    }\n",
       "\n",
       "    .dataframe thead th {\n",
       "        text-align: right;\n",
       "    }\n",
       "</style>\n",
       "<table border=\"1\" class=\"dataframe\">\n",
       "  <thead>\n",
       "    <tr style=\"text-align: right;\">\n",
       "      <th></th>\n",
       "      <th>Time Period</th>\n",
       "      <th>Title</th>\n",
       "      <th>Visits</th>\n",
       "      <th>Views</th>\n",
       "      <th>Average Time Viewed (seconds)</th>\n",
       "    </tr>\n",
       "  </thead>\n",
       "  <tbody>\n",
       "    <tr>\n",
       "      <th>32011</th>\n",
       "      <td>Oct-16</td>\n",
       "      <td>NaN</td>\n",
       "      <td>5.0</td>\n",
       "      <td>5</td>\n",
       "      <td>NaN</td>\n",
       "    </tr>\n",
       "    <tr>\n",
       "      <th>32012</th>\n",
       "      <td>Oct-16</td>\n",
       "      <td>NYC Children's Cabinet Continues \"Talk To Your...</td>\n",
       "      <td>5.0</td>\n",
       "      <td>5</td>\n",
       "      <td>15.00</td>\n",
       "    </tr>\n",
       "    <tr>\n",
       "      <th>32013</th>\n",
       "      <td>Oct-16</td>\n",
       "      <td>NaN</td>\n",
       "      <td>5.0</td>\n",
       "      <td>5</td>\n",
       "      <td>4.00</td>\n",
       "    </tr>\n",
       "    <tr>\n",
       "      <th>32014</th>\n",
       "      <td>Oct-16</td>\n",
       "      <td>NYC</td>\n",
       "      <td>5.0</td>\n",
       "      <td>7</td>\n",
       "      <td>66.25</td>\n",
       "    </tr>\n",
       "    <tr>\n",
       "      <th>32015</th>\n",
       "      <td>Oct-16</td>\n",
       "      <td>NYC</td>\n",
       "      <td>5.0</td>\n",
       "      <td>5</td>\n",
       "      <td>21.00</td>\n",
       "    </tr>\n",
       "  </tbody>\n",
       "</table>\n",
       "</div>"
      ],
      "text/plain": [
       "      Time Period                                              Title  Visits  \\\n",
       "32011      Oct-16                                                NaN     5.0   \n",
       "32012      Oct-16  NYC Children's Cabinet Continues \"Talk To Your...     5.0   \n",
       "32013      Oct-16                                                NaN     5.0   \n",
       "32014      Oct-16                                                NYC     5.0   \n",
       "32015      Oct-16                                                NYC     5.0   \n",
       "\n",
       "       Views  Average Time Viewed (seconds)  \n",
       "32011      5                            NaN  \n",
       "32012      5                          15.00  \n",
       "32013      5                           4.00  \n",
       "32014      7                          66.25  \n",
       "32015      5                          21.00  "
      ]
     },
     "execution_count": 25,
     "metadata": {},
     "output_type": "execute_result"
    }
   ],
   "source": [
    "df.tail()"
   ]
  },
  {
   "cell_type": "code",
   "execution_count": 33,
   "metadata": {},
   "outputs": [],
   "source": [
    "## create new variable for month, conditional to content of Time_Period variable.\n",
    "df['month'] = pd.np.where(df.Time_Period.str.contains(\"Jan\"), \"Jan\",\n",
    "                   pd.np.where(df.Time_Period.str.contains(\"Feb\"), \"Feb\",\n",
    "                   pd.np.where(df.Time_Period.str.contains(\"Mar\"), \"Mar\",\n",
    "                   pd.np.where(df.Time_Period.str.contains(\"Apr\"), \"Apr\",\n",
    "                   pd.np.where(df.Time_Period.str.contains(\"May\"), \"May\",\n",
    "                   pd.np.where(df.Time_Period.str.contains(\"Jun\"), \"Jun\",\n",
    "                   pd.np.where(df.Time_Period.str.contains(\"Jul\"), \"Jul\",\n",
    "                   pd.np.where(df.Time_Period.str.contains(\"Aug\"), \"Aug\",\n",
    "                   pd.np.where(df.Time_Period.str.contains(\"Sep\"), \"Sep\",\n",
    "                   pd.np.where(df.Time_Period.str.contains(\"Oct\"), \"Oct\",\n",
    "                   pd.np.where(df.Time_Period.str.contains(\"Nov\"), \"Nov\",\n",
    "                   pd.np.where(df.Time_Period.str.contains(\"Dec\"), \"Dec\", \" \"))))))))))))"
   ]
  },
  {
   "cell_type": "code",
   "execution_count": 26,
   "metadata": {},
   "outputs": [],
   "source": [
    "df.rename(columns={'Time Period':'Time_Period'},inplace = True)"
   ]
  },
  {
   "cell_type": "code",
   "execution_count": 27,
   "metadata": {},
   "outputs": [],
   "source": [
    "df.rename(columns={'Average Time Viewed':'Average_Time_Viewed'},inplace = True)"
   ]
  },
  {
   "cell_type": "code",
   "execution_count": 35,
   "metadata": {},
   "outputs": [
    {
     "data": {
      "text/html": [
       "<div>\n",
       "<style scoped>\n",
       "    .dataframe tbody tr th:only-of-type {\n",
       "        vertical-align: middle;\n",
       "    }\n",
       "\n",
       "    .dataframe tbody tr th {\n",
       "        vertical-align: top;\n",
       "    }\n",
       "\n",
       "    .dataframe thead th {\n",
       "        text-align: right;\n",
       "    }\n",
       "</style>\n",
       "<table border=\"1\" class=\"dataframe\">\n",
       "  <thead>\n",
       "    <tr style=\"text-align: right;\">\n",
       "      <th></th>\n",
       "      <th>Time_Period</th>\n",
       "      <th>Title</th>\n",
       "      <th>Visits</th>\n",
       "      <th>Views</th>\n",
       "      <th>Average Time Viewed (seconds)</th>\n",
       "      <th>month</th>\n",
       "    </tr>\n",
       "  </thead>\n",
       "  <tbody>\n",
       "    <tr>\n",
       "      <th>0</th>\n",
       "      <td>Jul-15</td>\n",
       "      <td>NaN</td>\n",
       "      <td>NaN</td>\n",
       "      <td>23123911</td>\n",
       "      <td>96.50</td>\n",
       "      <td>Jul</td>\n",
       "    </tr>\n",
       "    <tr>\n",
       "      <th>1</th>\n",
       "      <td>Jul-15</td>\n",
       "      <td>Welcome to NYC.gov | City of New York</td>\n",
       "      <td>551941.0</td>\n",
       "      <td>715124</td>\n",
       "      <td>68.02</td>\n",
       "      <td>Jul</td>\n",
       "    </tr>\n",
       "    <tr>\n",
       "      <th>2</th>\n",
       "      <td>Jul-15</td>\n",
       "      <td>Pay Online Now</td>\n",
       "      <td>470528.0</td>\n",
       "      <td>903463</td>\n",
       "      <td>41.90</td>\n",
       "      <td>Jul</td>\n",
       "    </tr>\n",
       "    <tr>\n",
       "      <th>3</th>\n",
       "      <td>Jul-15</td>\n",
       "      <td>Pay Parking and Camera Violations Online</td>\n",
       "      <td>361846.0</td>\n",
       "      <td>548096</td>\n",
       "      <td>313.00</td>\n",
       "      <td>Jul</td>\n",
       "    </tr>\n",
       "    <tr>\n",
       "      <th>4</th>\n",
       "      <td>Jul-15</td>\n",
       "      <td>Department of Buildings</td>\n",
       "      <td>321598.0</td>\n",
       "      <td>589963</td>\n",
       "      <td>193.77</td>\n",
       "      <td>Jul</td>\n",
       "    </tr>\n",
       "  </tbody>\n",
       "</table>\n",
       "</div>"
      ],
      "text/plain": [
       "  Time_Period                                     Title    Visits     Views  \\\n",
       "0      Jul-15                                       NaN       NaN  23123911   \n",
       "1      Jul-15     Welcome to NYC.gov | City of New York  551941.0    715124   \n",
       "2      Jul-15                            Pay Online Now  470528.0    903463   \n",
       "3      Jul-15  Pay Parking and Camera Violations Online  361846.0    548096   \n",
       "4      Jul-15                   Department of Buildings  321598.0    589963   \n",
       "\n",
       "   Average Time Viewed (seconds) month  \n",
       "0                          96.50   Jul  \n",
       "1                          68.02   Jul  \n",
       "2                          41.90   Jul  \n",
       "3                         313.00   Jul  \n",
       "4                         193.77   Jul  "
      ]
     },
     "execution_count": 35,
     "metadata": {},
     "output_type": "execute_result"
    }
   ],
   "source": [
    "pd.set_option('display.max_columns', None)\n",
    "df.head()"
   ]
  },
  {
   "cell_type": "code",
   "execution_count": 39,
   "metadata": {},
   "outputs": [
    {
     "data": {
      "text/html": [
       "<div>\n",
       "<style scoped>\n",
       "    .dataframe tbody tr th:only-of-type {\n",
       "        vertical-align: middle;\n",
       "    }\n",
       "\n",
       "    .dataframe tbody tr th {\n",
       "        vertical-align: top;\n",
       "    }\n",
       "\n",
       "    .dataframe thead th {\n",
       "        text-align: right;\n",
       "    }\n",
       "</style>\n",
       "<table border=\"1\" class=\"dataframe\">\n",
       "  <thead>\n",
       "    <tr style=\"text-align: right;\">\n",
       "      <th></th>\n",
       "      <th>Time_Period</th>\n",
       "      <th>Title</th>\n",
       "      <th>Visits</th>\n",
       "      <th>Views</th>\n",
       "      <th>Average Time Viewed (seconds)</th>\n",
       "      <th>month</th>\n",
       "    </tr>\n",
       "  </thead>\n",
       "  <tbody>\n",
       "    <tr>\n",
       "      <th>32011</th>\n",
       "      <td>Oct-16</td>\n",
       "      <td>NaN</td>\n",
       "      <td>5.0</td>\n",
       "      <td>5</td>\n",
       "      <td>NaN</td>\n",
       "      <td>Oct</td>\n",
       "    </tr>\n",
       "    <tr>\n",
       "      <th>32012</th>\n",
       "      <td>Oct-16</td>\n",
       "      <td>NYC Children's Cabinet Continues \"Talk To Your...</td>\n",
       "      <td>5.0</td>\n",
       "      <td>5</td>\n",
       "      <td>15.00</td>\n",
       "      <td>Oct</td>\n",
       "    </tr>\n",
       "    <tr>\n",
       "      <th>32013</th>\n",
       "      <td>Oct-16</td>\n",
       "      <td>NaN</td>\n",
       "      <td>5.0</td>\n",
       "      <td>5</td>\n",
       "      <td>4.00</td>\n",
       "      <td>Oct</td>\n",
       "    </tr>\n",
       "    <tr>\n",
       "      <th>32014</th>\n",
       "      <td>Oct-16</td>\n",
       "      <td>NYC</td>\n",
       "      <td>5.0</td>\n",
       "      <td>7</td>\n",
       "      <td>66.25</td>\n",
       "      <td>Oct</td>\n",
       "    </tr>\n",
       "    <tr>\n",
       "      <th>32015</th>\n",
       "      <td>Oct-16</td>\n",
       "      <td>NYC</td>\n",
       "      <td>5.0</td>\n",
       "      <td>5</td>\n",
       "      <td>21.00</td>\n",
       "      <td>Oct</td>\n",
       "    </tr>\n",
       "  </tbody>\n",
       "</table>\n",
       "</div>"
      ],
      "text/plain": [
       "      Time_Period                                              Title  Visits  \\\n",
       "32011      Oct-16                                                NaN     5.0   \n",
       "32012      Oct-16  NYC Children's Cabinet Continues \"Talk To Your...     5.0   \n",
       "32013      Oct-16                                                NaN     5.0   \n",
       "32014      Oct-16                                                NYC     5.0   \n",
       "32015      Oct-16                                                NYC     5.0   \n",
       "\n",
       "       Views  Average Time Viewed (seconds) month  \n",
       "32011      5                            NaN   Oct  \n",
       "32012      5                          15.00   Oct  \n",
       "32013      5                           4.00   Oct  \n",
       "32014      7                          66.25   Oct  \n",
       "32015      5                          21.00   Oct  "
      ]
     },
     "execution_count": 39,
     "metadata": {},
     "output_type": "execute_result"
    }
   ],
   "source": [
    "pd.set_option('display.max_columns', None)\n",
    "df.tail()"
   ]
  },
  {
   "cell_type": "code",
   "execution_count": 40,
   "metadata": {},
   "outputs": [],
   "source": [
    "## create new variable for year, conditional to content of Time_Period variable.\n",
    "df['year'] = pd.np.where(df.Time_Period.str.contains(\"15\"), \"2015\",\n",
    "                   pd.np.where(df.Time_Period.str.contains(\"16\"), \"2016\", \" \"))"
   ]
  },
  {
   "cell_type": "code",
   "execution_count": 41,
   "metadata": {},
   "outputs": [],
   "source": [
    "months_in_order = ['Jan', 'Feb', 'Mar', 'Apr', 'May', 'Jun', 'Jul', 'Aug', 'Sep', 'Oct', 'Nov', 'Dec']"
   ]
  },
  {
   "cell_type": "code",
   "execution_count": 45,
   "metadata": {},
   "outputs": [
    {
     "data": {
      "text/html": [
       "<div>\n",
       "<style scoped>\n",
       "    .dataframe tbody tr th:only-of-type {\n",
       "        vertical-align: middle;\n",
       "    }\n",
       "\n",
       "    .dataframe tbody tr th {\n",
       "        vertical-align: top;\n",
       "    }\n",
       "\n",
       "    .dataframe thead th {\n",
       "        text-align: right;\n",
       "    }\n",
       "</style>\n",
       "<table border=\"1\" class=\"dataframe\">\n",
       "  <thead>\n",
       "    <tr style=\"text-align: right;\">\n",
       "      <th></th>\n",
       "      <th>Time_Period</th>\n",
       "      <th>Title</th>\n",
       "      <th>Visits</th>\n",
       "      <th>Views</th>\n",
       "      <th>Average Time Viewed (seconds)</th>\n",
       "      <th>month</th>\n",
       "      <th>year</th>\n",
       "    </tr>\n",
       "  </thead>\n",
       "  <tbody>\n",
       "    <tr>\n",
       "      <th>0</th>\n",
       "      <td>Jul-15</td>\n",
       "      <td>NaN</td>\n",
       "      <td>NaN</td>\n",
       "      <td>23123911</td>\n",
       "      <td>96.50</td>\n",
       "      <td>Jul</td>\n",
       "      <td>2015</td>\n",
       "    </tr>\n",
       "    <tr>\n",
       "      <th>1</th>\n",
       "      <td>Jul-15</td>\n",
       "      <td>Welcome to NYC.gov | City of New York</td>\n",
       "      <td>551941.0</td>\n",
       "      <td>715124</td>\n",
       "      <td>68.02</td>\n",
       "      <td>Jul</td>\n",
       "      <td>2015</td>\n",
       "    </tr>\n",
       "    <tr>\n",
       "      <th>2</th>\n",
       "      <td>Jul-15</td>\n",
       "      <td>Pay Online Now</td>\n",
       "      <td>470528.0</td>\n",
       "      <td>903463</td>\n",
       "      <td>41.90</td>\n",
       "      <td>Jul</td>\n",
       "      <td>2015</td>\n",
       "    </tr>\n",
       "    <tr>\n",
       "      <th>3</th>\n",
       "      <td>Jul-15</td>\n",
       "      <td>Pay Parking and Camera Violations Online</td>\n",
       "      <td>361846.0</td>\n",
       "      <td>548096</td>\n",
       "      <td>313.00</td>\n",
       "      <td>Jul</td>\n",
       "      <td>2015</td>\n",
       "    </tr>\n",
       "    <tr>\n",
       "      <th>4</th>\n",
       "      <td>Jul-15</td>\n",
       "      <td>Department of Buildings</td>\n",
       "      <td>321598.0</td>\n",
       "      <td>589963</td>\n",
       "      <td>193.77</td>\n",
       "      <td>Jul</td>\n",
       "      <td>2015</td>\n",
       "    </tr>\n",
       "  </tbody>\n",
       "</table>\n",
       "</div>"
      ],
      "text/plain": [
       "  Time_Period                                     Title    Visits     Views  \\\n",
       "0      Jul-15                                       NaN       NaN  23123911   \n",
       "1      Jul-15     Welcome to NYC.gov | City of New York  551941.0    715124   \n",
       "2      Jul-15                            Pay Online Now  470528.0    903463   \n",
       "3      Jul-15  Pay Parking and Camera Violations Online  361846.0    548096   \n",
       "4      Jul-15                   Department of Buildings  321598.0    589963   \n",
       "\n",
       "   Average Time Viewed (seconds) month  year  \n",
       "0                          96.50   Jul  2015  \n",
       "1                          68.02   Jul  2015  \n",
       "2                          41.90   Jul  2015  \n",
       "3                         313.00   Jul  2015  \n",
       "4                         193.77   Jul  2015  "
      ]
     },
     "execution_count": 45,
     "metadata": {},
     "output_type": "execute_result"
    }
   ],
   "source": [
    "df.head()"
   ]
  },
  {
   "cell_type": "code",
   "execution_count": 49,
   "metadata": {},
   "outputs": [
    {
     "data": {
      "text/html": [
       "<div>\n",
       "<style scoped>\n",
       "    .dataframe tbody tr th:only-of-type {\n",
       "        vertical-align: middle;\n",
       "    }\n",
       "\n",
       "    .dataframe tbody tr th {\n",
       "        vertical-align: top;\n",
       "    }\n",
       "\n",
       "    .dataframe thead th {\n",
       "        text-align: right;\n",
       "    }\n",
       "</style>\n",
       "<table border=\"1\" class=\"dataframe\">\n",
       "  <thead>\n",
       "    <tr style=\"text-align: right;\">\n",
       "      <th>year</th>\n",
       "      <th>2015</th>\n",
       "      <th>2016</th>\n",
       "    </tr>\n",
       "    <tr>\n",
       "      <th>month</th>\n",
       "      <th></th>\n",
       "      <th></th>\n",
       "    </tr>\n",
       "  </thead>\n",
       "  <tbody>\n",
       "    <tr>\n",
       "      <th>Jan</th>\n",
       "      <td>NaN</td>\n",
       "      <td>23423.153923</td>\n",
       "    </tr>\n",
       "    <tr>\n",
       "      <th>Feb</th>\n",
       "      <td>NaN</td>\n",
       "      <td>21207.339330</td>\n",
       "    </tr>\n",
       "    <tr>\n",
       "      <th>Mar</th>\n",
       "      <td>NaN</td>\n",
       "      <td>2668.202899</td>\n",
       "    </tr>\n",
       "    <tr>\n",
       "      <th>Apr</th>\n",
       "      <td>NaN</td>\n",
       "      <td>2482.099950</td>\n",
       "    </tr>\n",
       "    <tr>\n",
       "      <th>May</th>\n",
       "      <td>NaN</td>\n",
       "      <td>2530.517241</td>\n",
       "    </tr>\n",
       "    <tr>\n",
       "      <th>Jun</th>\n",
       "      <td>NaN</td>\n",
       "      <td>2563.503248</td>\n",
       "    </tr>\n",
       "    <tr>\n",
       "      <th>Jul</th>\n",
       "      <td>21951.056472</td>\n",
       "      <td>2353.163918</td>\n",
       "    </tr>\n",
       "    <tr>\n",
       "      <th>Aug</th>\n",
       "      <td>20809.102449</td>\n",
       "      <td>2508.392304</td>\n",
       "    </tr>\n",
       "    <tr>\n",
       "      <th>Sep</th>\n",
       "      <td>21888.021489</td>\n",
       "      <td>2512.257371</td>\n",
       "    </tr>\n",
       "    <tr>\n",
       "      <th>Oct</th>\n",
       "      <td>21764.883058</td>\n",
       "      <td>4205.837581</td>\n",
       "    </tr>\n",
       "    <tr>\n",
       "      <th>Nov</th>\n",
       "      <td>19635.715642</td>\n",
       "      <td>NaN</td>\n",
       "    </tr>\n",
       "    <tr>\n",
       "      <th>Dec</th>\n",
       "      <td>20550.757621</td>\n",
       "      <td>NaN</td>\n",
       "    </tr>\n",
       "  </tbody>\n",
       "</table>\n",
       "</div>"
      ],
      "text/plain": [
       "year           2015          2016\n",
       "month                            \n",
       "Jan             NaN  23423.153923\n",
       "Feb             NaN  21207.339330\n",
       "Mar             NaN   2668.202899\n",
       "Apr             NaN   2482.099950\n",
       "May             NaN   2530.517241\n",
       "Jun             NaN   2563.503248\n",
       "Jul    21951.056472   2353.163918\n",
       "Aug    20809.102449   2508.392304\n",
       "Sep    21888.021489   2512.257371\n",
       "Oct    21764.883058   4205.837581\n",
       "Nov    19635.715642           NaN\n",
       "Dec    20550.757621           NaN"
      ]
     },
     "execution_count": 49,
     "metadata": {},
     "output_type": "execute_result"
    }
   ],
   "source": [
    "df_views_pivoted = df[df['year']<'2018'].pivot_table(index='month', columns='year', values='Views').reindex(months_in_order)\n",
    "df_views_pivoted"
   ]
  },
  {
   "cell_type": "code",
   "execution_count": 54,
   "metadata": {},
   "outputs": [],
   "source": [
    "df = df.dropna(subset=['Title'])"
   ]
  },
  {
   "cell_type": "code",
   "execution_count": 55,
   "metadata": {},
   "outputs": [
    {
     "data": {
      "text/plain": [
       "(30579, 7)"
      ]
     },
     "execution_count": 55,
     "metadata": {},
     "output_type": "execute_result"
    }
   ],
   "source": [
    "df.shape"
   ]
  },
  {
   "cell_type": "code",
   "execution_count": 56,
   "metadata": {},
   "outputs": [
    {
     "data": {
      "text/html": [
       "<div>\n",
       "<style scoped>\n",
       "    .dataframe tbody tr th:only-of-type {\n",
       "        vertical-align: middle;\n",
       "    }\n",
       "\n",
       "    .dataframe tbody tr th {\n",
       "        vertical-align: top;\n",
       "    }\n",
       "\n",
       "    .dataframe thead th {\n",
       "        text-align: right;\n",
       "    }\n",
       "</style>\n",
       "<table border=\"1\" class=\"dataframe\">\n",
       "  <thead>\n",
       "    <tr style=\"text-align: right;\">\n",
       "      <th>year</th>\n",
       "      <th>2015</th>\n",
       "      <th>2016</th>\n",
       "    </tr>\n",
       "    <tr>\n",
       "      <th>month</th>\n",
       "      <th></th>\n",
       "      <th></th>\n",
       "    </tr>\n",
       "  </thead>\n",
       "  <tbody>\n",
       "    <tr>\n",
       "      <th>Jan</th>\n",
       "      <td>NaN</td>\n",
       "      <td>10947.493988</td>\n",
       "    </tr>\n",
       "    <tr>\n",
       "      <th>Feb</th>\n",
       "      <td>NaN</td>\n",
       "      <td>9866.133267</td>\n",
       "    </tr>\n",
       "    <tr>\n",
       "      <th>Mar</th>\n",
       "      <td>NaN</td>\n",
       "      <td>1432.277868</td>\n",
       "    </tr>\n",
       "    <tr>\n",
       "      <th>Apr</th>\n",
       "      <td>NaN</td>\n",
       "      <td>1352.992341</td>\n",
       "    </tr>\n",
       "    <tr>\n",
       "      <th>May</th>\n",
       "      <td>NaN</td>\n",
       "      <td>1396.932964</td>\n",
       "    </tr>\n",
       "    <tr>\n",
       "      <th>Jun</th>\n",
       "      <td>NaN</td>\n",
       "      <td>1425.917831</td>\n",
       "    </tr>\n",
       "    <tr>\n",
       "      <th>Jul</th>\n",
       "      <td>10385.838220</td>\n",
       "      <td>1306.135196</td>\n",
       "    </tr>\n",
       "    <tr>\n",
       "      <th>Aug</th>\n",
       "      <td>9783.704317</td>\n",
       "      <td>1381.705980</td>\n",
       "    </tr>\n",
       "    <tr>\n",
       "      <th>Sep</th>\n",
       "      <td>10290.136273</td>\n",
       "      <td>1294.131606</td>\n",
       "    </tr>\n",
       "    <tr>\n",
       "      <th>Oct</th>\n",
       "      <td>10188.608717</td>\n",
       "      <td>2294.340810</td>\n",
       "    </tr>\n",
       "    <tr>\n",
       "      <th>Nov</th>\n",
       "      <td>9183.784068</td>\n",
       "      <td>NaN</td>\n",
       "    </tr>\n",
       "    <tr>\n",
       "      <th>Dec</th>\n",
       "      <td>9629.187876</td>\n",
       "      <td>NaN</td>\n",
       "    </tr>\n",
       "  </tbody>\n",
       "</table>\n",
       "</div>"
      ],
      "text/plain": [
       "year           2015          2016\n",
       "month                            \n",
       "Jan             NaN  10947.493988\n",
       "Feb             NaN   9866.133267\n",
       "Mar             NaN   1432.277868\n",
       "Apr             NaN   1352.992341\n",
       "May             NaN   1396.932964\n",
       "Jun             NaN   1425.917831\n",
       "Jul    10385.838220   1306.135196\n",
       "Aug     9783.704317   1381.705980\n",
       "Sep    10290.136273   1294.131606\n",
       "Oct    10188.608717   2294.340810\n",
       "Nov     9183.784068           NaN\n",
       "Dec     9629.187876           NaN"
      ]
     },
     "execution_count": 56,
     "metadata": {},
     "output_type": "execute_result"
    }
   ],
   "source": [
    "df_views_pivoted = df[df['year']<'2018'].pivot_table(index='month', columns='year', values='Views').reindex(months_in_order)\n",
    "df_views_pivoted"
   ]
  },
  {
   "cell_type": "code",
   "execution_count": null,
   "metadata": {},
   "outputs": [],
   "source": []
  }
 ],
 "metadata": {
  "kernelspec": {
   "display_name": "Python 3",
   "language": "python",
   "name": "python3"
  },
  "language_info": {
   "codemirror_mode": {
    "name": "ipython",
    "version": 3
   },
   "file_extension": ".py",
   "mimetype": "text/x-python",
   "name": "python",
   "nbconvert_exporter": "python",
   "pygments_lexer": "ipython3",
   "version": "3.7.4"
  }
 },
 "nbformat": 4,
 "nbformat_minor": 4
}
